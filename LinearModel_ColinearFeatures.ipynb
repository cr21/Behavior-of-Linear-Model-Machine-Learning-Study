{
  "nbformat": 4,
  "nbformat_minor": 0,
  "metadata": {
    "kernelspec": {
      "display_name": "Python 3",
      "language": "python",
      "name": "python3"
    },
    "language_info": {
      "codemirror_mode": {
        "name": "ipython",
        "version": 3
      },
      "file_extension": ".py",
      "mimetype": "text/x-python",
      "name": "python",
      "nbconvert_exporter": "python",
      "pygments_lexer": "ipython3",
      "version": "3.6.8"
    },
    "colab": {
      "name": "LinearModel_ColinearFeatures.ipynb",
      "provenance": [],
      "collapsed_sections": [],
      "include_colab_link": true
    }
  },
  "cells": [
    {
      "cell_type": "markdown",
      "metadata": {
        "id": "view-in-github",
        "colab_type": "text"
      },
      "source": [
        "<a href=\"https://colab.research.google.com/github/cr21/Behavior-of-Linear-Model-Machine-Learning-Study/blob/main/LinearModel_ColinearFeatures.ipynb\" target=\"_parent\"><img src=\"https://colab.research.google.com/assets/colab-badge.svg\" alt=\"Open In Colab\"/></a>"
      ]
    },
    {
      "cell_type": "markdown",
      "metadata": {
        "id": "86Tvnj5UblTy"
      },
      "source": [
        "##  Collinear features and their effect on linear models\n",
        "\n"
      ]
    },
    {
      "cell_type": "code",
      "metadata": {
        "colab": {
          "base_uri": "https://localhost:8080/"
        },
        "id": "YrJ3kkq5knSq",
        "outputId": "4052a91c-0ab5-44eb-bc7b-4c1d9cb06cfe"
      },
      "source": [
        "from google.colab import drive\n",
        "drive.mount('/content/drive/',force_remount=True)"
      ],
      "execution_count": 1,
      "outputs": [
        {
          "output_type": "stream",
          "text": [
            "Mounted at /content/drive/\n"
          ],
          "name": "stdout"
        }
      ]
    },
    {
      "cell_type": "code",
      "metadata": {
        "id": "qn_eOn2EblT3"
      },
      "source": [
        "%matplotlib inline\n",
        "import warnings\n",
        "warnings.filterwarnings(\"ignore\")\n",
        "import pandas as pd\n",
        "import numpy as np\n",
        "from sklearn.datasets import load_iris\n",
        "from sklearn.linear_model import SGDClassifier\n",
        "from sklearn.linear_model import LogisticRegression\n",
        "from sklearn.pipeline import Pipeline\n",
        "from sklearn.model_selection import KFold\n",
        "from sklearn.model_selection import GridSearchCV\n",
        "import seaborn as sns\n",
        "import matplotlib.pyplot as plt\n",
        "from sklearn.svm import  LinearSVC"
      ],
      "execution_count": 93,
      "outputs": []
    },
    {
      "cell_type": "code",
      "metadata": {
        "colab": {
          "base_uri": "https://localhost:8080/"
        },
        "id": "Qdm4YRKWk9FJ",
        "outputId": "1e556cd8-65a2-4b7c-aa2d-c56225d0a009"
      },
      "source": [
        "cd drive/MyDrive/AI_dataset/8_LinearModels/"
      ],
      "execution_count": 3,
      "outputs": [
        {
          "output_type": "stream",
          "text": [
            "/content/drive/.shortcut-targets-by-id/1BiHVEnsCpP-UmVK0W6upN-kOzI1a93Sb/8_LinearModels\n"
          ],
          "name": "stdout"
        }
      ]
    },
    {
      "cell_type": "code",
      "metadata": {
        "id": "VMoYWIayblUB"
      },
      "source": [
        "data = pd.read_csv('task_d.csv')"
      ],
      "execution_count": 4,
      "outputs": []
    },
    {
      "cell_type": "code",
      "metadata": {
        "id": "RfStXG4tblUI",
        "colab": {
          "base_uri": "https://localhost:8080/",
          "height": 204
        },
        "outputId": "18e6458b-1059-455a-ceff-261bf88f891f"
      },
      "source": [
        "data.head()"
      ],
      "execution_count": 5,
      "outputs": [
        {
          "output_type": "execute_result",
          "data": {
            "text/html": [
              "<div>\n",
              "<style scoped>\n",
              "    .dataframe tbody tr th:only-of-type {\n",
              "        vertical-align: middle;\n",
              "    }\n",
              "\n",
              "    .dataframe tbody tr th {\n",
              "        vertical-align: top;\n",
              "    }\n",
              "\n",
              "    .dataframe thead th {\n",
              "        text-align: right;\n",
              "    }\n",
              "</style>\n",
              "<table border=\"1\" class=\"dataframe\">\n",
              "  <thead>\n",
              "    <tr style=\"text-align: right;\">\n",
              "      <th></th>\n",
              "      <th>x</th>\n",
              "      <th>y</th>\n",
              "      <th>z</th>\n",
              "      <th>x*x</th>\n",
              "      <th>2*y</th>\n",
              "      <th>2*z+3*x*x</th>\n",
              "      <th>w</th>\n",
              "      <th>target</th>\n",
              "    </tr>\n",
              "  </thead>\n",
              "  <tbody>\n",
              "    <tr>\n",
              "      <th>0</th>\n",
              "      <td>-0.581066</td>\n",
              "      <td>0.841837</td>\n",
              "      <td>-1.012978</td>\n",
              "      <td>-0.604025</td>\n",
              "      <td>0.841837</td>\n",
              "      <td>-0.665927</td>\n",
              "      <td>-0.536277</td>\n",
              "      <td>0</td>\n",
              "    </tr>\n",
              "    <tr>\n",
              "      <th>1</th>\n",
              "      <td>-0.894309</td>\n",
              "      <td>-0.207835</td>\n",
              "      <td>-1.012978</td>\n",
              "      <td>-0.883052</td>\n",
              "      <td>-0.207835</td>\n",
              "      <td>-0.917054</td>\n",
              "      <td>-0.522364</td>\n",
              "      <td>0</td>\n",
              "    </tr>\n",
              "    <tr>\n",
              "      <th>2</th>\n",
              "      <td>-1.207552</td>\n",
              "      <td>0.212034</td>\n",
              "      <td>-1.082312</td>\n",
              "      <td>-1.150918</td>\n",
              "      <td>0.212034</td>\n",
              "      <td>-1.166507</td>\n",
              "      <td>0.205738</td>\n",
              "      <td>0</td>\n",
              "    </tr>\n",
              "    <tr>\n",
              "      <th>3</th>\n",
              "      <td>-1.364174</td>\n",
              "      <td>0.002099</td>\n",
              "      <td>-0.943643</td>\n",
              "      <td>-1.280666</td>\n",
              "      <td>0.002099</td>\n",
              "      <td>-1.266540</td>\n",
              "      <td>-0.665720</td>\n",
              "      <td>0</td>\n",
              "    </tr>\n",
              "    <tr>\n",
              "      <th>4</th>\n",
              "      <td>-0.737687</td>\n",
              "      <td>1.051772</td>\n",
              "      <td>-1.012978</td>\n",
              "      <td>-0.744934</td>\n",
              "      <td>1.051772</td>\n",
              "      <td>-0.792746</td>\n",
              "      <td>-0.735054</td>\n",
              "      <td>0</td>\n",
              "    </tr>\n",
              "  </tbody>\n",
              "</table>\n",
              "</div>"
            ],
            "text/plain": [
              "          x         y         z  ...  2*z+3*x*x         w  target\n",
              "0 -0.581066  0.841837 -1.012978  ...  -0.665927 -0.536277       0\n",
              "1 -0.894309 -0.207835 -1.012978  ...  -0.917054 -0.522364       0\n",
              "2 -1.207552  0.212034 -1.082312  ...  -1.166507  0.205738       0\n",
              "3 -1.364174  0.002099 -0.943643  ...  -1.266540 -0.665720       0\n",
              "4 -0.737687  1.051772 -1.012978  ...  -0.792746 -0.735054       0\n",
              "\n",
              "[5 rows x 8 columns]"
            ]
          },
          "metadata": {
            "tags": []
          },
          "execution_count": 5
        }
      ]
    },
    {
      "cell_type": "code",
      "metadata": {
        "id": "JIIuomCkblUP"
      },
      "source": [
        "X = data.drop(['target'], axis=1).values\n",
        "Y = data['target'].values"
      ],
      "execution_count": 105,
      "outputs": []
    },
    {
      "cell_type": "markdown",
      "metadata": {
        "id": "Ydm98u3EblUU"
      },
      "source": [
        "### Doing perturbation test to check the presence of collinearity  \n",
        "\n",
        "#### 1. Experiment 1 Logistic Regression\n",
        "<pre>\n",
        "\n",
        "\n",
        "1. <b>Finding the Correlation between the features</b>\n",
        "    a. check the correlation between the features\n",
        "    b. plot heat map of correlation matrix using seaborn heatmap\n",
        "2. <b>Finding the best model for the given data</b>\n",
        "    a. Train Logistic regression on data(X,Y) that we have created in the above cell\n",
        "    b. Find the best hyper prameter alpha with hyper parameter tuning using k-fold cross validation (grid search CV or         \n",
        "    random search CV make sure you choose the alpha in log space)\n",
        "    c. Creat a new Logistic regression with the best alpha\n",
        "    (search for how to get the best hyper parameter value), name the best model as 'best_model'\n",
        "    \n",
        "3. <b>Getting the weights with the original data</b>\n",
        "    a. train the 'best_model' with X, Y\n",
        "    b. Check the accuracy of the model 'best_model_accuracy'\n",
        "    c. Get the weights W using best_model.coef_\n",
        "\n",
        "4. <b>Modifying original data</b>\n",
        "    a. Add a noise(order of 10^-2) to each element of X \n",
        "    and get the new data set X' (X' = X + e)\n",
        "    b. Train the same 'best_model' with data (X', Y)\n",
        "    c. Check the accuracy of the model 'best_model_accuracy_edited'\n",
        "    d. Get the weights W' using best_model.coef_\n",
        "    \n",
        "5. <b> Checking deviations in metric and weights </b>\n",
        "    a. find the difference between 'best_model_accuracy_edited' and 'best_model_accuracy'\n",
        "    b. find the absolute change between each value of W and W' ==> |(W-W')|\n",
        "    c. print the top 4 features which have higher % change in weights \n",
        "    compare to the other feature\n",
        "\n",
        "</pre>\n",
        "\n"
      ]
    },
    {
      "cell_type": "markdown",
      "metadata": {
        "id": "QbEpJin8l4up"
      },
      "source": [
        "<pre>\n",
        "1.1 <b>Finding the Correlation between the features</b>\n",
        "    a. check the correlation between the features\n",
        "    b. plot heat map of correlation matrix using seaborn heatmap\n",
        "\n",
        "</pre>"
      ]
    },
    {
      "cell_type": "code",
      "metadata": {
        "colab": {
          "base_uri": "https://localhost:8080/",
          "height": 297
        },
        "id": "Ok_vCUM3nnAm",
        "outputId": "e6b1cd19-2d3c-4604-a2a2-4028a131a689"
      },
      "source": [
        "# a. checking the corelation between features\n",
        "corelationMatrix = data.corr()\n",
        "corelationMatrix\n",
        "# https://www.youtube.com/watch?v=JwNwbu-g2m0&ab_channel=TopTipBio"
      ],
      "execution_count": 7,
      "outputs": [
        {
          "output_type": "execute_result",
          "data": {
            "text/html": [
              "<div>\n",
              "<style scoped>\n",
              "    .dataframe tbody tr th:only-of-type {\n",
              "        vertical-align: middle;\n",
              "    }\n",
              "\n",
              "    .dataframe tbody tr th {\n",
              "        vertical-align: top;\n",
              "    }\n",
              "\n",
              "    .dataframe thead th {\n",
              "        text-align: right;\n",
              "    }\n",
              "</style>\n",
              "<table border=\"1\" class=\"dataframe\">\n",
              "  <thead>\n",
              "    <tr style=\"text-align: right;\">\n",
              "      <th></th>\n",
              "      <th>x</th>\n",
              "      <th>y</th>\n",
              "      <th>z</th>\n",
              "      <th>x*x</th>\n",
              "      <th>2*y</th>\n",
              "      <th>2*z+3*x*x</th>\n",
              "      <th>w</th>\n",
              "      <th>target</th>\n",
              "    </tr>\n",
              "  </thead>\n",
              "  <tbody>\n",
              "    <tr>\n",
              "      <th>x</th>\n",
              "      <td>1.000000</td>\n",
              "      <td>-0.205926</td>\n",
              "      <td>0.812458</td>\n",
              "      <td>0.997947</td>\n",
              "      <td>-0.205926</td>\n",
              "      <td>0.996252</td>\n",
              "      <td>0.583277</td>\n",
              "      <td>0.728290</td>\n",
              "    </tr>\n",
              "    <tr>\n",
              "      <th>y</th>\n",
              "      <td>-0.205926</td>\n",
              "      <td>1.000000</td>\n",
              "      <td>-0.602663</td>\n",
              "      <td>-0.209289</td>\n",
              "      <td>1.000000</td>\n",
              "      <td>-0.261123</td>\n",
              "      <td>-0.401790</td>\n",
              "      <td>-0.690684</td>\n",
              "    </tr>\n",
              "    <tr>\n",
              "      <th>z</th>\n",
              "      <td>0.812458</td>\n",
              "      <td>-0.602663</td>\n",
              "      <td>1.000000</td>\n",
              "      <td>0.807137</td>\n",
              "      <td>-0.602663</td>\n",
              "      <td>0.847163</td>\n",
              "      <td>0.674486</td>\n",
              "      <td>0.969990</td>\n",
              "    </tr>\n",
              "    <tr>\n",
              "      <th>x*x</th>\n",
              "      <td>0.997947</td>\n",
              "      <td>-0.209289</td>\n",
              "      <td>0.807137</td>\n",
              "      <td>1.000000</td>\n",
              "      <td>-0.209289</td>\n",
              "      <td>0.997457</td>\n",
              "      <td>0.583803</td>\n",
              "      <td>0.719570</td>\n",
              "    </tr>\n",
              "    <tr>\n",
              "      <th>2*y</th>\n",
              "      <td>-0.205926</td>\n",
              "      <td>1.000000</td>\n",
              "      <td>-0.602663</td>\n",
              "      <td>-0.209289</td>\n",
              "      <td>1.000000</td>\n",
              "      <td>-0.261123</td>\n",
              "      <td>-0.401790</td>\n",
              "      <td>-0.690684</td>\n",
              "    </tr>\n",
              "    <tr>\n",
              "      <th>2*z+3*x*x</th>\n",
              "      <td>0.996252</td>\n",
              "      <td>-0.261123</td>\n",
              "      <td>0.847163</td>\n",
              "      <td>0.997457</td>\n",
              "      <td>-0.261123</td>\n",
              "      <td>1.000000</td>\n",
              "      <td>0.606860</td>\n",
              "      <td>0.764729</td>\n",
              "    </tr>\n",
              "    <tr>\n",
              "      <th>w</th>\n",
              "      <td>0.583277</td>\n",
              "      <td>-0.401790</td>\n",
              "      <td>0.674486</td>\n",
              "      <td>0.583803</td>\n",
              "      <td>-0.401790</td>\n",
              "      <td>0.606860</td>\n",
              "      <td>1.000000</td>\n",
              "      <td>0.641750</td>\n",
              "    </tr>\n",
              "    <tr>\n",
              "      <th>target</th>\n",
              "      <td>0.728290</td>\n",
              "      <td>-0.690684</td>\n",
              "      <td>0.969990</td>\n",
              "      <td>0.719570</td>\n",
              "      <td>-0.690684</td>\n",
              "      <td>0.764729</td>\n",
              "      <td>0.641750</td>\n",
              "      <td>1.000000</td>\n",
              "    </tr>\n",
              "  </tbody>\n",
              "</table>\n",
              "</div>"
            ],
            "text/plain": [
              "                  x         y         z  ...  2*z+3*x*x         w    target\n",
              "x          1.000000 -0.205926  0.812458  ...   0.996252  0.583277  0.728290\n",
              "y         -0.205926  1.000000 -0.602663  ...  -0.261123 -0.401790 -0.690684\n",
              "z          0.812458 -0.602663  1.000000  ...   0.847163  0.674486  0.969990\n",
              "x*x        0.997947 -0.209289  0.807137  ...   0.997457  0.583803  0.719570\n",
              "2*y       -0.205926  1.000000 -0.602663  ...  -0.261123 -0.401790 -0.690684\n",
              "2*z+3*x*x  0.996252 -0.261123  0.847163  ...   1.000000  0.606860  0.764729\n",
              "w          0.583277 -0.401790  0.674486  ...   0.606860  1.000000  0.641750\n",
              "target     0.728290 -0.690684  0.969990  ...   0.764729  0.641750  1.000000\n",
              "\n",
              "[8 rows x 8 columns]"
            ]
          },
          "metadata": {
            "tags": []
          },
          "execution_count": 7
        }
      ]
    },
    {
      "cell_type": "code",
      "metadata": {
        "id": "Lai8wXU1pmSb",
        "colab": {
          "base_uri": "https://localhost:8080/",
          "height": 329
        },
        "outputId": "846b6f87-dfbb-42a6-a336-181d28006617"
      },
      "source": [
        "# b. plotting the heat map\n",
        "sns.heatmap(corelationMatrix )"
      ],
      "execution_count": 8,
      "outputs": [
        {
          "output_type": "execute_result",
          "data": {
            "text/plain": [
              "<matplotlib.axes._subplots.AxesSubplot at 0x7f9332073c50>"
            ]
          },
          "metadata": {
            "tags": []
          },
          "execution_count": 8
        },
        {
          "output_type": "display_data",
          "data": {
            "image/png": "[encoded data removed]",
            "text/plain": [
              "<Figure size 432x288 with 2 Axes>"
            ]
          },
          "metadata": {
            "tags": [],
            "needs_background": "light"
          }
        }
      ]
    },
    {
      "cell_type": "markdown",
      "metadata": {
        "id": "tAmHchSwqrTE"
      },
      "source": [
        "<pre>\n",
        "\n",
        "1.2. <b>Finding the best model for the given data</b>\n",
        "    a. Train Logistic regression on data(X,Y) that we have created in the above cell\n",
        "    b. Find the best hyper prameter alpha with hyper parameter tuning using k-fold cross validation (grid search CV or         \n",
        "    random search CV make sure you choose the alpha in log space)\n",
        "    c. Creat a new Logistic regression with the best alpha\n",
        "    (search for how to get the best hyper parameter value), name the best model as 'best_model'\n",
        "</pre>"
      ]
    },
    {
      "cell_type": "code",
      "metadata": {
        "colab": {
          "base_uri": "https://localhost:8080/"
        },
        "id": "HRUf1MMSqqmm",
        "outputId": "a7acf37e-a271-4afb-862f-a8b8817821f6"
      },
      "source": [
        "# https://scikit-learn.org/stable/tutorial/statistical_inference/putting_together.html\n",
        "logistic = LogisticRegression(max_iter=10000, tol=0.1, penalty='l2')\n",
        "pipe = Pipeline(steps=[ ('logistic', logistic)])\n",
        "folds = KFold(5)\n",
        "param_grid = {\n",
        "    'logistic__C': np.logspace(-4, 4, 5)\n",
        "}\n",
        "\n",
        "search = GridSearchCV(pipe, param_grid, n_jobs=-1, cv=folds)\n",
        "\n",
        "search.fit(X, Y)\n",
        "print(\"Best parameter (CV score=%0.3f):\" % search.best_score_)\n",
        "print(search.best_params_)"
      ],
      "execution_count": 106,
      "outputs": [
        {
          "output_type": "stream",
          "text": [
            "Best parameter (CV score=1.000):\n",
            "{'logistic__C': 1.0}\n"
          ],
          "name": "stdout"
        }
      ]
    },
    {
      "cell_type": "markdown",
      "metadata": {
        "id": "xT2cP8uyvDIE"
      },
      "source": [
        "<pre>\n",
        "1.3. <b>Getting the weights with the original data</b>\n",
        "    a. train the 'best_model' with X, Y\n",
        "    b. Check the accuracy of the model 'best_model_accuracy'\n",
        "    c. Get the weights W using best_model.coef_\n",
        "</pre>"
      ]
    },
    {
      "cell_type": "code",
      "metadata": {
        "colab": {
          "base_uri": "https://localhost:8080/"
        },
        "id": "liqF6EAYuD0F",
        "outputId": "594bc328-4cd7-478a-fabb-2a071a7b0af2"
      },
      "source": [
        "# create new logistic regression model with best alpha value\n",
        "best_C = search.best_params_['logistic__C']\n",
        "best_logistic_model = LogisticRegression(C=best_C)\n",
        "best_logistic_model.fit(X,Y)\n",
        "best_logistic_model_accuracy = best_logistic_model.score(X,Y)\n",
        "print(f\" best logistic model accuracy\", best_logistic_model_accuracy)\n",
        "best_logistic_model_weights = best_logistic_model.coef_\n",
        "print(f\"Best logistic model coefficents\", best_logistic_model_weights)"
      ],
      "execution_count": 107,
      "outputs": [
        {
          "output_type": "stream",
          "text": [
            " best logistic model accuracy 1.0\n",
            "Best logistic model coefficents [[ 0.72298832 -0.90354834  1.68256456  0.66730582 -0.90354834  0.80372108\n",
            "   0.5096727 ]]\n"
          ],
          "name": "stdout"
        }
      ]
    },
    {
      "cell_type": "markdown",
      "metadata": {
        "id": "k0vmC_uxu6j-"
      },
      "source": [
        "<pre>\n",
        "1.4. <b>Modifying original data</b>\n",
        "    a. Add a noise(order of 10^-2) to each element of X \n",
        "    and get the new data set X' (X' = X + e)\n",
        "    b. Train the same 'best_model' with data (X', Y)\n",
        "    c. Check the accuracy of the model 'best_model_accuracy_edited'\n",
        "    d. Get the weights W' using best_model.coef_\n",
        "    \n",
        "</pre>"
      ]
    },
    {
      "cell_type": "code",
      "metadata": {
        "colab": {
          "base_uri": "https://localhost:8080/"
        },
        "id": "pgLaFw0Hv5Ws",
        "outputId": "9cd9d71b-4e20-4517-bc5d-611fe7c93e30"
      },
      "source": [
        "#  added gaussian noise in order of 10^-2\n",
        "\n",
        "X = X + np.random.normal(0,10**-2,X.shape)\n",
        "# train best model on noisy data\n",
        "best_logistic_model = LogisticRegression(C=best_C)\n",
        "best_logistic_model.fit(X,Y)\n",
        "\n",
        "# best_logistic_model.fit(X,Y)\n",
        "best_logistic_model_accuracy_edited = best_logistic_model.score(X,Y)\n",
        "print(f\" best logistic model accuracy edited \", best_logistic_model_accuracy_edited)\n",
        "best_logistic_model_weights_edited = best_logistic_model.coef_\n",
        "print(f\"Best logistic model coefficents edited\", best_logistic_model_weights_edited)"
      ],
      "execution_count": 108,
      "outputs": [
        {
          "output_type": "stream",
          "text": [
            " best logistic model accuracy edited  1.0\n",
            "Best logistic model coefficents edited [[ 0.7247558  -0.90454959  1.67916368  0.67067216 -0.90852578  0.8019142\n",
            "   0.51241448]]\n"
          ],
          "name": "stdout"
        }
      ]
    },
    {
      "cell_type": "markdown",
      "metadata": {
        "id": "3Mcaa4on0Ib3"
      },
      "source": [
        "<pre>\n",
        "5. <b> Checking deviations in metric and weights </b>\n",
        "    a. find the difference between 'best_model_accuracy_edited' and 'best_model_accuracy'\n",
        "    b. find the absolute change between each value of W and W' ==> |(W-W')|\n",
        "    c. print the top 4 features which have higher % change in weights \n",
        "    compare to the other feature\n",
        "\n",
        "</pre>\n",
        "</pre>"
      ]
    },
    {
      "cell_type": "code",
      "metadata": {
        "colab": {
          "base_uri": "https://localhost:8080/"
        },
        "id": "MmNdVOB2z9EE",
        "outputId": "83cb714e-2d84-48a6-88d8-6c84ac55b806"
      },
      "source": [
        "difference = abs(best_logistic_model_accuracy_edited - best_logistic_model_accuracy)\n",
        "print(\"difference between 'best_model_accuracy_edited' and 'best_model_accuracy'\", difference)"
      ],
      "execution_count": 109,
      "outputs": [
        {
          "output_type": "stream",
          "text": [
            "difference between 'best_model_accuracy_edited' and 'best_model_accuracy' 0.0\n"
          ],
          "name": "stdout"
        }
      ]
    },
    {
      "cell_type": "code",
      "metadata": {
        "colab": {
          "base_uri": "https://localhost:8080/"
        },
        "id": "o0xazVQ70kNV",
        "outputId": "777e34e1-0342-4e66-905e-b27b6f84d2b5"
      },
      "source": [
        "\n",
        "abs_weight_difference = abs(best_logistic_model_weights - best_logistic_model_weights_edited)\n",
        "print(f\"absolute weights difference\", abs_weight_difference)\n",
        "abs_weight_percent_diff = abs_weight_difference*100\n",
        "print(f\"absolute weights percent difference\", abs_weight_percent_diff)\n",
        "\n",
        "top4 = np.argsort(-abs_weight_percent_diff)[:,:4]\n",
        "print('Top 4 feature index ',top4[:4]) #Top 4 feture index with highest difference in weights\n",
        "\n",
        "features = data.columns\n",
        "\n",
        "print(\"Top 4 features having highest absolute percentage weight change are\", features[top4])"
      ],
      "execution_count": 110,
      "outputs": [
        {
          "output_type": "stream",
          "text": [
            "absolute weights difference [[0.00176748 0.00100124 0.00340088 0.00336634 0.00497744 0.00180688\n",
            "  0.00274178]]\n",
            "absolute weights percent difference [[0.17674816 0.10012428 0.34008815 0.33663424 0.49774396 0.18068811\n",
            "  0.27417836]]\n",
            "Top 4 feature index  [[4 2 3 6]]\n",
            "Top 4 features having highest absolute percentage weight change are [['2*y' 'z' 'x*x' 'w']]\n"
          ],
          "name": "stdout"
        }
      ]
    },
    {
      "cell_type": "markdown",
      "metadata": {
        "id": "Ky4HuNcQljvC"
      },
      "source": [
        "#### Experiment: 2 Linear SVM\n",
        "\n",
        "\n"
      ]
    },
    {
      "cell_type": "markdown",
      "metadata": {
        "id": "gMrUUOi03Tpa"
      },
      "source": [
        "<pre>\n",
        "\n",
        "1.2. <b>Finding the best SVM model for the given data</b>\n",
        "    a. Train SVM Model on data(X,Y) that we have created in the above cell\n",
        "    b. Find the best hyper prameter alpha with hyper parameter tuning using k-fold cross validation (grid search CV or         \n",
        "    random search CV make sure you choose the alpha in log space)\n",
        "    c. Creat a new SVM   with the best alpha\n",
        "    (search for how to get the best hyper parameter value), name the best model as 'best_model'\n",
        "</pre>"
      ]
    },
    {
      "cell_type": "code",
      "metadata": {
        "colab": {
          "base_uri": "https://localhost:8080/"
        },
        "id": "nlWsuftZ3TZS",
        "outputId": "2720c834-056a-40d1-832e-0c206f4a8b94"
      },
      "source": [
        "# https://scikit-learn.org/stable/auto_examples/compose/plot_compare_reduction.html#sphx-glr-auto-examples-compose-plot-compare-reduction-py\n",
        "X = data.drop(['target'], axis=1).values\n",
        "Y = data['target'].values\n",
        "\n",
        "svm = LinearSVC( penalty='l2', max_iter=10000, tol=0.1)\n",
        "pipe = Pipeline(steps=[ ('svm', svm)])\n",
        "folds = KFold(5)\n",
        "param_grid = {\n",
        "    'svm__C': np.logspace(-4, 4, 5)\n",
        "}\n",
        "\n",
        "search_svm = GridSearchCV(pipe, param_grid, n_jobs=-1, cv=folds)\n",
        "\n",
        "search_svm.fit(X, Y)\n",
        "print(\"Best parameter (CV score=%0.3f):\" % search_svm.best_score_)\n",
        "print(search_svm.best_params_)"
      ],
      "execution_count": 112,
      "outputs": [
        {
          "output_type": "stream",
          "text": [
            "Best parameter (CV score=1.000):\n",
            "{'svm__C': 0.0001}\n"
          ],
          "name": "stdout"
        }
      ]
    },
    {
      "cell_type": "markdown",
      "metadata": {
        "id": "94PPP_AN7WbV"
      },
      "source": [
        "<pre>\n",
        "1.3. <b>Getting the weights with the original data</b>\n",
        "    a. train the 'best_model' with X, Y\n",
        "    b. Check the accuracy of the model 'best_model_accuracy'\n",
        "    c. Get the weights W using best_model.coef_\n",
        "</pre>"
      ]
    },
    {
      "cell_type": "code",
      "metadata": {
        "colab": {
          "base_uri": "https://localhost:8080/"
        },
        "id": "Vz3f0sfk7a6o",
        "outputId": "66d2035f-29b6-40e9-e255-322b5288b579"
      },
      "source": [
        "# create new logistic regression model with best alpha value\n",
        "best_C = search_svm.best_params_['svm__C']\n",
        "best_svm_model = LinearSVC(C=best_C)\n",
        "best_svm_model.fit(X,Y)\n",
        "best_svm_model_accuracy = best_svm_model.score(X,Y)\n",
        "print(f\" best svm model accuracy\", best_svm_model_accuracy)\n",
        "best_svm_model_weights = best_svm_model.coef_\n",
        "print(f\"Best svm model coefficents\", best_svm_model_weights)"
      ],
      "execution_count": 113,
      "outputs": [
        {
          "output_type": "stream",
          "text": [
            " best svm model accuracy 1.0\n",
            "Best svm model coefficents [[ 0.01323056 -0.01280974  0.01791372  0.01305589 -0.01280974  0.01391318\n",
            "   0.01167827]]\n"
          ],
          "name": "stdout"
        }
      ]
    },
    {
      "cell_type": "markdown",
      "metadata": {
        "id": "OY6xyfXA8Eh8"
      },
      "source": [
        "<pre>\n",
        "1.4. <b>Modifying original data</b>\n",
        "    a. Add a noise(order of 10^-2) to each element of X \n",
        "    and get the new data set X' (X' = X + e)\n",
        "    b. Train the same 'best_model' with data (X', Y)\n",
        "    c. Check the accuracy of the model 'best_model_accuracy_edited'\n",
        "    d. Get the weights W' using best_model.coef_\n",
        "    \n",
        "</pre>"
      ]
    },
    {
      "cell_type": "code",
      "metadata": {
        "colab": {
          "base_uri": "https://localhost:8080/"
        },
        "id": "0dmws4H17u8J",
        "outputId": "1538fde8-785e-4413-ae78-5b957eb51c03"
      },
      "source": [
        "#  added gaussian noise in order of 10^-2\n",
        "\n",
        "X = X + np.random.normal(0,10**-2,X.shape)\n",
        "# train best model on noisy data\n",
        "best_svm_model = LinearSVC(C=best_C)\n",
        "best_svm_model.fit(X,Y)\n",
        "\n",
        "\n",
        "best_svm_model_accuracy_edited = best_svm_model.score(X,Y)\n",
        "print(f\" best svm model accuracy edited \", best_svm_model_accuracy_edited)\n",
        "best_svm_model_weights_edited = best_svm_model.coef_\n",
        "print(f\"Best svm model coefficents edited\", best_svm_model_weights_edited)"
      ],
      "execution_count": 114,
      "outputs": [
        {
          "output_type": "stream",
          "text": [
            " best svm model accuracy edited  1.0\n",
            "Best svm model coefficents edited [[ 0.01325107 -0.01278229  0.01791113  0.01308231 -0.01282336  0.01390612\n",
            "   0.01168814]]\n"
          ],
          "name": "stdout"
        }
      ]
    },
    {
      "cell_type": "markdown",
      "metadata": {
        "id": "9Q9O_oE487o6"
      },
      "source": [
        "<pre>\n",
        "5. <b> Checking deviations in metric and weights </b>\n",
        "    a. find the difference between 'best_model_accuracy_edited' and 'best_model_accuracy'\n",
        "    b. find the absolute change between each value of W and W' ==> |(W-W')|\n",
        "    c. print the top 4 features which have higher % change in weights \n",
        "    compare to the other feature\n",
        "\n",
        "</pre>\n",
        "</pre>"
      ]
    },
    {
      "cell_type": "code",
      "metadata": {
        "colab": {
          "base_uri": "https://localhost:8080/"
        },
        "id": "pNwmqe2B8_WQ",
        "outputId": "13327589-4370-46e3-deda-69c8f2387dd4"
      },
      "source": [
        "difference_svm_accuracy = abs(best_svm_model_accuracy_edited - best_svm_model_accuracy)\n",
        "print(\"difference between 'best_model_accuracy_edited' and 'best_model_accuracy' for svm\", difference_svm_accuracy)"
      ],
      "execution_count": 116,
      "outputs": [
        {
          "output_type": "stream",
          "text": [
            "difference between 'best_model_accuracy_edited' and 'best_model_accuracy' for svm 0.0\n"
          ],
          "name": "stdout"
        }
      ]
    },
    {
      "cell_type": "code",
      "metadata": {
        "colab": {
          "base_uri": "https://localhost:8080/"
        },
        "id": "fpA7tXti9iB1",
        "outputId": "8c436946-8105-4400-9ac2-7c6e6a5b280f"
      },
      "source": [
        "\n",
        "abs_weight_difference_svm = abs(best_svm_model_weights - best_svm_model_weights_edited)\n",
        "print(f\"absolute weights difference svm\", abs_weight_difference_svm)\n",
        "abs_weight_percent_diff_svm = abs_weight_difference_svm*100\n",
        "print(f\"absolute weights percent difference svm\", abs_weight_percent_diff_svm)\n",
        "\n",
        "top4_svm = np.argsort(-abs_weight_percent_diff_svm)[:,:4]\n",
        "print('Top 4 feature index ',top4[:4]) #Top 4 feture index with highest difference in weights\n",
        "\n",
        "features_svm = data.columns\n",
        "\n",
        "print(\"Top 4 features having highest absolute percentage weight change  for svm model\", features_svm[top4_svm])"
      ],
      "execution_count": 117,
      "outputs": [
        {
          "output_type": "stream",
          "text": [
            "absolute weights difference svm [[2.05101790e-05 2.74465914e-05 2.59356185e-06 2.64227525e-05\n",
            "  1.36247731e-05 7.06079751e-06 9.86873931e-06]]\n",
            "absolute weights percent difference svm [[0.00205102 0.00274466 0.00025936 0.00264228 0.00136248 0.00070608\n",
            "  0.00098687]]\n",
            "Top 4 feature index  [[4 2 3 6]]\n",
            "Top 4 features having highest absolute percentage weight change  for svm model [['y' 'x*x' 'x' '2*y']]\n"
          ],
          "name": "stdout"
        }
      ]
    },
    {
      "cell_type": "markdown",
      "metadata": {
        "id": "bk5CWqUN-CJd"
      },
      "source": [
        "#<pre> <font color='red'> Observation </font> </pre>\n",
        "\n",
        "1. \n",
        "Multi colinearity is not affecting Accuracy of the model for our dataset for both linear and svm model.\n",
        "2. \n",
        "By observing Top4 features with maximum abs percentage weights difference of original data and noisy data we can conclude that features having multi colinearity and high corelation is affected by outliers ( added noise) and coefficient are changing for those features."
      ]
    }
  ]
}