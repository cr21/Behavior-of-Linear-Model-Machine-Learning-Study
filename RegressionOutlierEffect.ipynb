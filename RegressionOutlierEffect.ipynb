{
  "nbformat": 4,
  "nbformat_minor": 0,
  "metadata": {
    "kernelspec": {
      "display_name": "Python 3",
      "language": "python",
      "name": "python3"
    },
    "language_info": {
      "codemirror_mode": {
        "name": "ipython",
        "version": 3
      },
      "file_extension": ".py",
      "mimetype": "text/x-python",
      "name": "python",
      "nbconvert_exporter": "python",
      "pygments_lexer": "ipython3",
      "version": "3.6.8"
    },
    "colab": {
      "name": "RegressionOutlierEffect.ipynb",
      "provenance": [],
      "collapsed_sections": [],
      "include_colab_link": true
    }
  },
  "cells": [
    {
      "cell_type": "markdown",
      "metadata": {
        "id": "view-in-github",
        "colab_type": "text"
      },
      "source": [
        "<a href=\"https://colab.research.google.com/github/cr21/Behavior-of-Linear-Model-Machine-Learning-Study/blob/main/RegressionOutlierEffect.ipynb\" target=\"_parent\"><img src=\"https://colab.research.google.com/assets/colab-badge.svg\" alt=\"Open In Colab\"/></a>"
      ]
    },
    {
      "cell_type": "markdown",
      "metadata": {
        "id": "lC_YhEgEBf_8"
      },
      "source": [
        "## Study  Regression outlier effect.\n",
        "\n",
        "<font face='georgia'> <h3> Objective:Visualization best fit linear regression line for different scenarios</h3> </font>"
      ]
    },
    {
      "cell_type": "code",
      "metadata": {
        "id": "mYtT_CaPBf__"
      },
      "source": [
        "# you should not import any other packages\n",
        "import matplotlib.pyplot as plt\n",
        "import warnings\n",
        "warnings.filterwarnings(\"ignore\")\n",
        "import numpy as np\n",
        "from sklearn.linear_model import SGDRegressor"
      ],
      "execution_count": 3,
      "outputs": []
    },
    {
      "cell_type": "code",
      "metadata": {
        "id": "WZpRUzXyBgAF"
      },
      "source": [
        "import numpy as np\n",
        "import scipy as sp\n",
        "import scipy.optimize\n",
        "\n",
        "def angles_in_ellipse(num,a,b):\n",
        "    assert(num > 0)\n",
        "    assert(a < b)\n",
        "    angles = 2 * np.pi * np.arange(num) / num\n",
        "    # print(\"np.pi\", np.pi)\n",
        "    # print(\" __\",2*np.pi*np.arange(num)/num)\n",
        "    if a != b:\n",
        "        e = (1.0 - a ** 2.0 / b ** 2.0) ** 0.5\n",
        "        print(\"e\",e)\n",
        "        tot_size = sp.special.ellipeinc(2.0 * np.pi, e)\n",
        "        arc_size = tot_size / num\n",
        "        arcs = np.arange(num) * arc_size\n",
        "        res = sp.optimize.root(\n",
        "            lambda x: (sp.special.ellipeinc(x, e) - arcs), angles)\n",
        "        angles = res.x \n",
        "    return angles"
      ],
      "execution_count": 13,
      "outputs": []
    },
    {
      "cell_type": "code",
      "metadata": {
        "id": "aNlL36CzKY8l"
      },
      "source": [
        "# <!-- https://scikit-learn.org/stable/modules/linear_model.html#ordinary-least-squares -->"
      ],
      "execution_count": null,
      "outputs": []
    },
    {
      "cell_type": "code",
      "metadata": {
        "id": "AKBecYCGBgAL",
        "colab": {
          "base_uri": "https://localhost:8080/",
          "height": 142
        },
        "outputId": "9916c7d7-56ac-4180-c220-a9555b7a7ae6"
      },
      "source": [
        "a = 2\n",
        "b = 9\n",
        "n = 50\n",
        "\n",
        "phi = angles_in_ellipse(n, a, b)\n",
        "e = (1.0 - a ** 2.0 / b ** 2.0) ** 0.5\n",
        "arcs = sp.special.ellipeinc(phi, e)\n",
        "\n",
        "fig = plt.figure()\n",
        "ax = fig.gca()\n",
        "ax.axes.set_aspect('equal')\n",
        "ax.scatter(b * np.sin(phi), a * np.cos(phi))\n",
        "plt.show()"
      ],
      "execution_count": 14,
      "outputs": [
        {
          "output_type": "stream",
          "text": [
            "e 0.9749960430435691\n"
          ],
          "name": "stdout"
        },
        {
          "output_type": "display_data",
          "data": {
            "image/png": "[encoded data removed]",
            "text/plain": [
              "<Figure size 432x288 with 1 Axes>"
            ]
          },
          "metadata": {
            "tags": [],
            "needs_background": "light"
          }
        }
      ]
    },
    {
      "cell_type": "code",
      "metadata": {
        "id": "U-ZL3oSWBgAR"
      },
      "source": [
        "X= b * np.sin(phi)\n",
        "Y= a * np.cos(phi)"
      ],
      "execution_count": 18,
      "outputs": []
    },
    {
      "cell_type": "markdown",
      "metadata": {
        "id": "UXCYGQpdBgAW"
      },
      "source": [
        "<pre>\n",
        "<font face='georgia'>\n",
        "<i>\n",
        "1. As a part of this assignment you will be working the regression problem and how regularization helps to get rid of outliers\n",
        "\n",
        "2. Use the above created X, Y for this experiment.\n",
        "\n",
        "3. to do this task you can either implement your own SGDRegression(prefered) excatly similar to \"SGD assignment\" with mean sequared error or \n",
        "you can use the SGDRegression of sklearn, for example \"SGDRegressor(alpha=0.001, eta0=0.001, learning_rate='constant',random_state=0)\" \n",
        "note that you have to use the constant learning rate and learning rate <b>eta0</b> initialized.\n",
        "\n",
        "4. as a part of this experiment you will train your linear regression on the data (X, Y) with different regularizations alpha=[0.0001, 1, 100] and \n",
        "observe how prediction hyper plan moves with respect to the outliers\n",
        "\n",
        "5. This the results of one of the experiment we did (title of the plot was not metioned intentionally) \n",
        "<img src='https://i.imgur.com/FctjBiD.png'> \n",
        "in each iteration we were adding single outlier and observed the movement of the hyper plane.\n",
        "\n",
        "6. please consider this list of outliers: [(0,2),(21, 13), (-23, -15), (22,14), (23, 14)] in each of tuple the first elemet \n",
        "is the input feature(X) and the second element is the output(Y)\n",
        "\n",
        "7. for each regularizer, you need to add these outliers one at time to data and then train your model \n",
        "again on the updated data. \n",
        "\n",
        "8. you should plot a 3*5 grid of subplots,\n",
        " where each row corresponds to results of model with a single regularizer.\n",
        "\n",
        "9. Algorithm: \n",
        "\n",
        "for each regularizer:\n",
        "    for each outlier:\n",
        "        #add the outlier to the data\n",
        "        #fit the linear regression to the updated data\n",
        "        #get the hyper plane\n",
        "        #plot the hyperplane along with the data points\n",
        "\n",
        "10. MAKE SURE YOU WRITE THE DETAILED OBSERVATIONS, PLEASE CHECK THE LOSS FUNCTION IN THE SKLEARN DOCUMENTATION\n",
        " (please do search for it).\n",
        "</i>\n",
        "</font>\n",
        "</pre>"
      ]
    },
    {
      "cell_type": "code",
      "metadata": {
        "id": "57BWufNIdTKn"
      },
      "source": [
        "class CustomSGDRegressor(object):\n",
        "  \"\"\"\n",
        "  Custom Vanila implementation of SGD classfier with minimum detail\n",
        "\n",
        "  \"\"\"\n",
        "  def __init__(self, loss ='squared_loss', penalty='l2',alpha=0.0001, tol=10e-4,learning_rate=0.01, eta0=0.01):\n",
        "    self.loss = loss\n",
        "    self.penalty = penalty\n",
        "    self.alpha = alpha\n",
        "    self.tol = tol\n",
        "    self.learning_rate = learning_rate\n",
        "    self.eta0 = eta0\n",
        "  \n",
        "\n",
        "  def loss(Y, Y_pred):\n",
        "    \"\"\"\n",
        "    get the Loss value\n",
        "    \n",
        "    \"\"\"\n",
        "    pass\n",
        "\n",
        "  def initializeParam(X):\n",
        "\n",
        "    \"\"\"\n",
        "    Initialize the parameter for Linear Model\n",
        "    \"\"\"\n",
        "    pass\n",
        "\n",
        "  def fit(X,Y):\n",
        "\n",
        "    \"\"\"\n",
        "      Fit the line or hyperplane on X\n",
        "    \"\"\"\n",
        "    pass\n",
        "\n",
        "\n",
        "  def score(X,Y):\n",
        "    \"\"\"\n",
        "      Return the coefficient of determination  of the prediction\n",
        "\n",
        "    \"\"\"\n",
        "    pass\n",
        "\n",
        "\n",
        "  def predict(X):\n",
        "    \"\"\"\n",
        "    Predict the value of X\n",
        "\n",
        "    \"\"\"\n",
        "    pass"
      ],
      "execution_count": 22,
      "outputs": []
    },
    {
      "cell_type": "code",
      "metadata": {
        "id": "9Q-XKJGFdYGk"
      },
      "source": [
        "SGDRegressor()"
      ],
      "execution_count": null,
      "outputs": []
    }
  ]
}