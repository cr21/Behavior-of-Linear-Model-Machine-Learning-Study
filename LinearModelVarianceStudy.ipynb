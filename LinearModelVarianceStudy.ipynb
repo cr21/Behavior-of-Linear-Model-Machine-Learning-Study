{
  "nbformat": 4,
  "nbformat_minor": 0,
  "metadata": {
    "kernelspec": {
      "display_name": "Python 3",
      "language": "python",
      "name": "python3"
    },
    "language_info": {
      "codemirror_mode": {
        "name": "ipython",
        "version": 3
      },
      "file_extension": ".py",
      "mimetype": "text/x-python",
      "name": "python",
      "nbconvert_exporter": "python",
      "pygments_lexer": "ipython3",
      "version": "3.6.8"
    },
    "colab": {
      "name": "LinearModelVarianceStudy.ipynb",
      "provenance": [],
      "collapsed_sections": [],
      "include_colab_link": true
    }
  },
  "cells": [
    {
      "cell_type": "markdown",
      "metadata": {
        "id": "view-in-github",
        "colab_type": "text"
      },
      "source": [
        "<a href=\"https://colab.research.google.com/github/cr21/Behavior-of-Linear-Model-Machine-Learning-Study/blob/main/LinearModelVarianceStudy.ipynb\" target=\"_parent\"><img src=\"https://colab.research.google.com/assets/colab-badge.svg\" alt=\"Open In Colab\"/></a>"
      ]
    },
    {
      "cell_type": "code",
      "metadata": {
        "colab": {
          "base_uri": "https://localhost:8080/"
        },
        "id": "3GbwFlX79Hgw",
        "outputId": "4a02fe31-0b0b-4597-8058-26c91065b055"
      },
      "source": [
        "from google.colab import drive\n",
        "drive.mount('/content/drive/',force_remount=True)"
      ],
      "execution_count": 2,
      "outputs": [
        {
          "output_type": "stream",
          "text": [
            "Mounted at /content/drive/\n"
          ],
          "name": "stdout"
        }
      ]
    },
    {
      "cell_type": "code",
      "metadata": {
        "id": "8ArWK463kbhL",
        "colab": {
          "base_uri": "https://localhost:8080/",
          "height": 17
        },
        "outputId": "1f1804c1-714d-4032-99d6-746d4ea15868"
      },
      "source": [
        "import numpy as np\n",
        "import pandas as pd\n",
        "import plotly\n",
        "import plotly.figure_factory as ff\n",
        "import plotly.graph_objs as go\n",
        "from sklearn.linear_model import LogisticRegression\n",
        "from sklearn.svm import LinearSVC\n",
        "from sklearn.preprocessing import StandardScaler\n",
        "from sklearn.preprocessing import MinMaxScaler\n",
        "from plotly.offline import download_plotlyjs, init_notebook_mode, plot, iplot\n",
        "init_notebook_mode(connected=True)\n",
        "import matplotlib.pyplot as plt\n"
      ],
      "execution_count": 44,
      "outputs": [
        {
          "output_type": "display_data",
          "data": {
            "text/html": [
              "        <script type=\"text/javascript\">\n",
              "        window.PlotlyConfig = {MathJaxConfig: 'local'};\n",
              "        if (window.MathJax) {MathJax.Hub.Config({SVG: {font: \"STIX-Web\"}});}\n",
              "        if (typeof require !== 'undefined') {\n",
              "        require.undef(\"plotly\");\n",
              "        requirejs.config({\n",
              "            paths: {\n",
              "                'plotly': ['https://cdn.plot.ly/plotly-latest.min']\n",
              "            }\n",
              "        });\n",
              "        require(['plotly'], function(Plotly) {\n",
              "            window._Plotly = Plotly;\n",
              "        });\n",
              "        }\n",
              "        </script>\n",
              "        "
            ]
          },
          "metadata": {
            "tags": []
          }
        }
      ]
    },
    {
      "cell_type": "code",
      "metadata": {
        "colab": {
          "base_uri": "https://localhost:8080/"
        },
        "id": "rOyZ_WL196dC",
        "outputId": "37c0f746-aa86-42e8-d6b4-883f999a1bdf"
      },
      "source": [
        "cd drive/MyDrive/AI_dataset/8_LinearModels/"
      ],
      "execution_count": 4,
      "outputs": [
        {
          "output_type": "stream",
          "text": [
            "/content/drive/.shortcut-targets-by-id/1BiHVEnsCpP-UmVK0W6upN-kOzI1a93Sb/8_LinearModels\n"
          ],
          "name": "stdout"
        }
      ]
    },
    {
      "cell_type": "code",
      "metadata": {
        "colab": {
          "base_uri": "https://localhost:8080/"
        },
        "id": "rIYixg_T9-1s",
        "outputId": "15824155-c38b-49be-d4f3-1eb5d3247bc7"
      },
      "source": [
        "ls"
      ],
      "execution_count": 5,
      "outputs": [
        {
          "output_type": "stream",
          "text": [
            " 8A_LR_SVM.ipynb   8D_LR_SVM.ipynb      isotonic_regression_sklearn.ipynb\n",
            " 8B_LR_SVM.ipynb  '8E&F_LR_SVM.ipynb'   task_b.csv\n",
            " 8C_LR_SVM.ipynb   calibration.pdf      task_d.csv\n"
          ],
          "name": "stdout"
        }
      ]
    },
    {
      "cell_type": "code",
      "metadata": {
        "id": "5mldzJdakbhS"
      },
      "source": [
        "data = pd.read_csv('task_b.csv')\n",
        "data=data.iloc[:,1:]\n"
      ],
      "execution_count": 8,
      "outputs": []
    },
    {
      "cell_type": "markdown",
      "metadata": {
        "id": "tL2b6dDU_Jvq"
      },
      "source": [
        "# <pre font-family=\"calibri,arial,sans-serif\" >Behviour of Linear Model Study on <font color='red'>Variance of features </font></pre>"
      ]
    },
    {
      "cell_type": "code",
      "metadata": {
        "scrolled": true,
        "id": "rsCrC2wckbhV",
        "colab": {
          "base_uri": "https://localhost:8080/",
          "height": 204
        },
        "outputId": "8cd74fc5-6be1-4c8b-aa2e-a1254dc64cab"
      },
      "source": [
        "data.head()"
      ],
      "execution_count": 9,
      "outputs": [
        {
          "output_type": "execute_result",
          "data": {
            "text/html": [
              "<div>\n",
              "<style scoped>\n",
              "    .dataframe tbody tr th:only-of-type {\n",
              "        vertical-align: middle;\n",
              "    }\n",
              "\n",
              "    .dataframe tbody tr th {\n",
              "        vertical-align: top;\n",
              "    }\n",
              "\n",
              "    .dataframe thead th {\n",
              "        text-align: right;\n",
              "    }\n",
              "</style>\n",
              "<table border=\"1\" class=\"dataframe\">\n",
              "  <thead>\n",
              "    <tr style=\"text-align: right;\">\n",
              "      <th></th>\n",
              "      <th>f1</th>\n",
              "      <th>f2</th>\n",
              "      <th>f3</th>\n",
              "      <th>y</th>\n",
              "    </tr>\n",
              "  </thead>\n",
              "  <tbody>\n",
              "    <tr>\n",
              "      <th>0</th>\n",
              "      <td>-195.871045</td>\n",
              "      <td>-14843.084171</td>\n",
              "      <td>5.532140</td>\n",
              "      <td>1.0</td>\n",
              "    </tr>\n",
              "    <tr>\n",
              "      <th>1</th>\n",
              "      <td>-1217.183964</td>\n",
              "      <td>-4068.124621</td>\n",
              "      <td>4.416082</td>\n",
              "      <td>1.0</td>\n",
              "    </tr>\n",
              "    <tr>\n",
              "      <th>2</th>\n",
              "      <td>9.138451</td>\n",
              "      <td>4413.412028</td>\n",
              "      <td>0.425317</td>\n",
              "      <td>0.0</td>\n",
              "    </tr>\n",
              "    <tr>\n",
              "      <th>3</th>\n",
              "      <td>363.824242</td>\n",
              "      <td>15474.760647</td>\n",
              "      <td>1.094119</td>\n",
              "      <td>0.0</td>\n",
              "    </tr>\n",
              "    <tr>\n",
              "      <th>4</th>\n",
              "      <td>-768.812047</td>\n",
              "      <td>-7963.932192</td>\n",
              "      <td>1.870536</td>\n",
              "      <td>0.0</td>\n",
              "    </tr>\n",
              "  </tbody>\n",
              "</table>\n",
              "</div>"
            ],
            "text/plain": [
              "            f1            f2        f3    y\n",
              "0  -195.871045 -14843.084171  5.532140  1.0\n",
              "1 -1217.183964  -4068.124621  4.416082  1.0\n",
              "2     9.138451   4413.412028  0.425317  0.0\n",
              "3   363.824242  15474.760647  1.094119  0.0\n",
              "4  -768.812047  -7963.932192  1.870536  0.0"
            ]
          },
          "metadata": {
            "tags": []
          },
          "execution_count": 9
        }
      ]
    },
    {
      "cell_type": "code",
      "metadata": {
        "colab": {
          "base_uri": "https://localhost:8080/"
        },
        "id": "9MUjKHK2Bf2S",
        "outputId": "7a18c84b-12da-490e-bde8-be492b541fa0"
      },
      "source": [
        "print(data['y'].value_counts())\n",
        "print(\"Data is perfectly balanced\")"
      ],
      "execution_count": 25,
      "outputs": [
        {
          "output_type": "stream",
          "text": [
            "0.0    100\n",
            "1.0    100\n",
            "Name: y, dtype: int64\n",
            "Data is perfectly balanced\n"
          ],
          "name": "stdout"
        }
      ]
    },
    {
      "cell_type": "code",
      "metadata": {
        "id": "FI18joJ_kbhZ",
        "colab": {
          "base_uri": "https://localhost:8080/"
        },
        "outputId": "0b711a23-3e84-4288-ed28-293292ffb79c"
      },
      "source": [
        "data.corr()['y']"
      ],
      "execution_count": 14,
      "outputs": [
        {
          "output_type": "execute_result",
          "data": {
            "text/plain": [
              "f1    0.067172\n",
              "f2   -0.017944\n",
              "f3    0.839060\n",
              "y     1.000000\n",
              "Name: y, dtype: float64"
            ]
          },
          "metadata": {
            "tags": []
          },
          "execution_count": 14
        }
      ]
    },
    {
      "cell_type": "code",
      "metadata": {
        "scrolled": true,
        "id": "u40oCVMikbhc",
        "colab": {
          "base_uri": "https://localhost:8080/"
        },
        "outputId": "a8e1bb38-024b-4370-8caf-0ff5d31fe114"
      },
      "source": [
        "data.std()"
      ],
      "execution_count": 16,
      "outputs": [
        {
          "output_type": "execute_result",
          "data": {
            "text/plain": [
              "f1      488.195035\n",
              "f2    10403.417325\n",
              "f3        2.926662\n",
              "y         0.501255\n",
              "dtype: float64"
            ]
          },
          "metadata": {
            "tags": []
          },
          "execution_count": 16
        }
      ]
    },
    {
      "cell_type": "code",
      "metadata": {
        "id": "yQIbNaHskbhe",
        "colab": {
          "base_uri": "https://localhost:8080/"
        },
        "outputId": "a4372e39-1092-459d-fd49-42ebf19143b1"
      },
      "source": [
        "X=data[['f1','f2','f3']].values\n",
        "Y=data['y'].values\n",
        "print(X.shape)\n",
        "print(Y.shape)"
      ],
      "execution_count": 95,
      "outputs": [
        {
          "output_type": "stream",
          "text": [
            "(200, 3)\n",
            "(200,)\n"
          ],
          "name": "stdout"
        }
      ]
    },
    {
      "cell_type": "code",
      "metadata": {
        "colab": {
          "base_uri": "https://localhost:8080/",
          "height": 488
        },
        "id": "K6_5Ev9JDrva",
        "outputId": "225c208a-6196-494b-fd4c-5b1c18ee9d84"
      },
      "source": [
        "import seaborn as sns\n",
        "sns.lmplot('f1', 'f2', data, hue='y', fit_reg=False)\n"
      ],
      "execution_count": 60,
      "outputs": [
        {
          "output_type": "stream",
          "text": [
            "/usr/local/lib/python3.7/dist-packages/seaborn/_decorators.py:43: FutureWarning:\n",
            "\n",
            "Pass the following variables as keyword args: x, y, data. From version 0.12, the only valid positional argument will be `data`, and passing other arguments without an explicit keyword will result in an error or misinterpretation.\n",
            "\n"
          ],
          "name": "stderr"
        },
        {
          "output_type": "execute_result",
          "data": {
            "text/plain": [
              "<seaborn.axisgrid.FacetGrid at 0x7f08249f3050>"
            ]
          },
          "metadata": {
            "tags": []
          },
          "execution_count": 60
        },
        {
          "output_type": "display_data",
          "data": {
            "image/png": "[encoded data removed]",
            "text/plain": [
              "<Figure size 411.875x360 with 1 Axes>"
            ]
          },
          "metadata": {
            "tags": [],
            "needs_background": "light"
          }
        }
      ]
    },
    {
      "cell_type": "markdown",
      "metadata": {
        "id": "aUxp9-qEkbhh"
      },
      "source": [
        "# What if our features are with different variance \n",
        "\n",
        "<pre>\n",
        "* <b>As part of this experiment we will observe how linear models work in case of data having feautres with different variance</b>\n",
        "* <b>from the output of the above cells we can observe that var(F2)>>var(F1)>>Var(F3)</b>\n",
        "\n",
        "> <b>Experiment 1</b>:\n",
        "    1. We will apply Logistic regression(SGDClassifier with logloss) on 'data' and check the feature importance\n",
        "    2. we will apply SVM(SGDClassifier with hinge) on 'data' and check the feature importance\n",
        "\n",
        "> <b>Experiment 2</b>:\n",
        "    1. we will apply Logistic regression(SGDClassifier with logloss) on 'data' after standardization \n",
        "       i.e standardization(data, column wise): (column-mean(column))/std(column) and check the feature importance\n",
        "    2. we will apply SVM(SGDClassifier with hinge) on 'data' after standardization \n",
        "       i.e standardization(data, column wise): (column-mean(column))/std(column) and check the feature importance\n",
        "\n",
        "</pre>"
      ]
    },
    {
      "cell_type": "markdown",
      "metadata": {
        "id": "Bc5xjFZhAgPS"
      },
      "source": [
        "# <pre > <font color='red'> Experiment 1 </font></pre>"
      ]
    },
    {
      "cell_type": "code",
      "metadata": {
        "id": "3AB50FHtAePP"
      },
      "source": [
        "# Logistic Regression\n",
        "logistic_clf = LogisticRegression(penalty='l2')\n"
      ],
      "execution_count": 30,
      "outputs": []
    },
    {
      "cell_type": "code",
      "metadata": {
        "colab": {
          "base_uri": "https://localhost:8080/"
        },
        "id": "653BvM-4A8sM",
        "outputId": "19ac1a29-7619-4e5b-befd-89ab357c2368"
      },
      "source": [
        "logistic_clf.fit(X,Y)"
      ],
      "execution_count": 20,
      "outputs": [
        {
          "output_type": "execute_result",
          "data": {
            "text/plain": [
              "LogisticRegression(C=1.0, class_weight=None, dual=False, fit_intercept=True,\n",
              "                   intercept_scaling=1, l1_ratio=None, max_iter=100,\n",
              "                   multi_class='auto', n_jobs=None, penalty='l2',\n",
              "                   random_state=None, solver='lbfgs', tol=0.0001, verbose=0,\n",
              "                   warm_start=False)"
            ]
          },
          "metadata": {
            "tags": []
          },
          "execution_count": 20
        }
      ]
    },
    {
      "cell_type": "code",
      "metadata": {
        "colab": {
          "base_uri": "https://localhost:8080/"
        },
        "id": "XiqjT3XIBBDr",
        "outputId": "6ed13a52-799e-41b9-a0c5-024fd58700f0"
      },
      "source": [
        "# accuracy of Logistic Regression\n",
        "score = logistic_clf.score(X,Y)\n",
        "print(\"accuracy Logistic Regression \", score)\n",
        "\n"
      ],
      "execution_count": 27,
      "outputs": [
        {
          "output_type": "stream",
          "text": [
            "accuracy Logistic Regression  0.93\n"
          ],
          "name": "stdout"
        }
      ]
    },
    {
      "cell_type": "code",
      "metadata": {
        "colab": {
          "base_uri": "https://localhost:8080/"
        },
        "id": "WUjEGAEOB3NI",
        "outputId": "1e3172c0-6ab0-495c-f576-b9b2680c7a24"
      },
      "source": [
        "# Feature importance\n",
        "classImportance = logistic_clf.coef_[0]\n",
        "for id, coeff_ in enumerate(classImportance):\n",
        "  print(f\"f{id+1} coefficient {abs(classImportance[id])} \")"
      ],
      "execution_count": 29,
      "outputs": [
        {
          "output_type": "stream",
          "text": [
            "f1 coefficient 0.0008896381130511962 \n",
            "f2 coefficient 1.0416946094804762e-05 \n",
            "f3 coefficient 1.9566801565320402 \n"
          ],
          "name": "stdout"
        }
      ]
    },
    {
      "cell_type": "code",
      "metadata": {
        "id": "fiEBkPUzCb_e"
      },
      "source": [
        "# SVM classfier\n",
        "svmLinear = LinearSVC(penalty='l2', loss='hinge', max_iter=100000, tol=10e-5)\n"
      ],
      "execution_count": 42,
      "outputs": []
    },
    {
      "cell_type": "code",
      "metadata": {
        "colab": {
          "base_uri": "https://localhost:8080/"
        },
        "id": "puqqA9MEC1r8",
        "outputId": "4a62e0a0-6f08-4488-be51-96f5dbedcea0"
      },
      "source": [
        "svmLinear.fit(X,Y)"
      ],
      "execution_count": 43,
      "outputs": [
        {
          "output_type": "stream",
          "text": [
            "/usr/local/lib/python3.7/dist-packages/sklearn/svm/_base.py:947: ConvergenceWarning:\n",
            "\n",
            "Liblinear failed to converge, increase the number of iterations.\n",
            "\n"
          ],
          "name": "stderr"
        },
        {
          "output_type": "execute_result",
          "data": {
            "text/plain": [
              "LinearSVC(C=1.0, class_weight=None, dual=True, fit_intercept=True,\n",
              "          intercept_scaling=1, loss='hinge', max_iter=100000, multi_class='ovr',\n",
              "          penalty='l2', random_state=None, tol=0.0001, verbose=0)"
            ]
          },
          "metadata": {
            "tags": []
          },
          "execution_count": 43
        }
      ]
    },
    {
      "cell_type": "code",
      "metadata": {
        "colab": {
          "base_uri": "https://localhost:8080/"
        },
        "id": "HjJGx11GDg1C",
        "outputId": "62cce9c8-aca6-450f-f9db-cf0d5188919e"
      },
      "source": [
        "# accuracy of Logistic Regression\n",
        "score = svmLinear.score(X,Y)\n",
        "print(\"accuracy svm classfier \", score)"
      ],
      "execution_count": 61,
      "outputs": [
        {
          "output_type": "stream",
          "text": [
            "accuracy svm classfier  0.575\n"
          ],
          "name": "stdout"
        }
      ]
    },
    {
      "cell_type": "code",
      "metadata": {
        "colab": {
          "base_uri": "https://localhost:8080/"
        },
        "id": "wI5IvpUzLd8Y",
        "outputId": "91051940-4895-42ff-880b-10f50dc18635"
      },
      "source": [
        "svcImportance = svmLinear.coef_[0]\n",
        "print(\"feature importance for SVM\")\n",
        "for id, coeff_ in enumerate(svcImportance):\n",
        "  print(f\"f{id+1} coefficient {abs(svcImportance[id])} \")"
      ],
      "execution_count": 94,
      "outputs": [
        {
          "output_type": "stream",
          "text": [
            "feature importance for SVM\n",
            "f1 coefficient 8.982307584795618e-05 \n",
            "f2 coefficient 0.0002970061697392157 \n",
            "f3 coefficient 0.19403735507976852 \n"
          ],
          "name": "stdout"
        }
      ]
    },
    {
      "cell_type": "markdown",
      "metadata": {
        "id": "SvHHsbwxFtsZ"
      },
      "source": [
        "### <pre> <font color='red'>Observation from Experiment 1 </font></pre>\n",
        "> <b>Experiment 1 Result </b>:\n",
        "\n",
        "    1. Logistic regression fits quiet well and accuracy is also good\n",
        "    2. SVM linear failed to converge with more than 100000 iteration with hinge loss <br/>\n",
        "     Highly variance nature of data is affecting the classfier behavior"
      ]
    },
    {
      "cell_type": "markdown",
      "metadata": {
        "id": "qKPQ3YTOG4Ox"
      },
      "source": [
        "# <pre > <font color='red'> Experiment 2 </font></pre>"
      ]
    },
    {
      "cell_type": "code",
      "metadata": {
        "id": "7c9KX0PZHXSO"
      },
      "source": [
        "# Scale the feature to zero mean Unit variance\n",
        "scalar = StandardScaler()\n",
        "X = scalar.fit_transform(X)"
      ],
      "execution_count": 96,
      "outputs": []
    },
    {
      "cell_type": "code",
      "metadata": {
        "id": "b4U0v7psKXuU"
      },
      "source": [
        "# Logistic Regression on Standaradized data\n",
        "logistic_clf_standard = LogisticRegression(penalty='l2')\n"
      ],
      "execution_count": 97,
      "outputs": []
    },
    {
      "cell_type": "code",
      "metadata": {
        "colab": {
          "base_uri": "https://localhost:8080/"
        },
        "id": "A39bMLMHMDRU",
        "outputId": "74b17e2c-3dbd-48e1-d52f-459debd59628"
      },
      "source": [
        "logistic_clf_standard.fit(X,Y)"
      ],
      "execution_count": 98,
      "outputs": [
        {
          "output_type": "execute_result",
          "data": {
            "text/plain": [
              "LogisticRegression(C=1.0, class_weight=None, dual=False, fit_intercept=True,\n",
              "                   intercept_scaling=1, l1_ratio=None, max_iter=100,\n",
              "                   multi_class='auto', n_jobs=None, penalty='l2',\n",
              "                   random_state=None, solver='lbfgs', tol=0.0001, verbose=0,\n",
              "                   warm_start=False)"
            ]
          },
          "metadata": {
            "tags": []
          },
          "execution_count": 98
        }
      ]
    },
    {
      "cell_type": "code",
      "metadata": {
        "colab": {
          "base_uri": "https://localhost:8080/"
        },
        "id": "r85I0eytMJTb",
        "outputId": "b01179ed-10eb-426f-c340-d547f54b0f37"
      },
      "source": [
        "# accuracy of Logistic Regression\n",
        "score_stanrard = logistic_clf_standard.score(X,Y)\n",
        "print(\"accuracy Logistic Regression with standardized feature\", score_stanrard)\n",
        "\n"
      ],
      "execution_count": 99,
      "outputs": [
        {
          "output_type": "stream",
          "text": [
            "accuracy Logistic Regression with standardized feature 0.93\n"
          ],
          "name": "stdout"
        }
      ]
    },
    {
      "cell_type": "code",
      "metadata": {
        "colab": {
          "base_uri": "https://localhost:8080/"
        },
        "id": "Pb3gvILlM6VI",
        "outputId": "5ab241df-690a-4370-910f-0de34ea1f8e3"
      },
      "source": [
        "# Feature importance\n",
        "classImportance_standard = logistic_clf_standard.coef_[0]\n",
        "print(\"classs importance on standardized data\")\n",
        "for id, coeff_ in enumerate(classImportance_standard):\n",
        "  print(f\"f{id+1} coefficient {abs(classImportance_standard[id])} \")"
      ],
      "execution_count": 100,
      "outputs": [
        {
          "output_type": "stream",
          "text": [
            "classs importance on standardized data\n",
            "f1 coefficient 0.24105482944744727 \n",
            "f2 coefficient 0.07588844908289774 \n",
            "f3 coefficient 3.903568993476378 \n"
          ],
          "name": "stdout"
        }
      ]
    },
    {
      "cell_type": "code",
      "metadata": {
        "colab": {
          "base_uri": "https://localhost:8080/"
        },
        "id": "vY0VdfKhNSaa",
        "outputId": "2d1e4022-ed52-468e-ad56-22c041b0b0a5"
      },
      "source": [
        "# Run Same Experiment on SVM\n",
        "# SVM classfier\n",
        "svmLinear_standard = LinearSVC(penalty='l2', loss='hinge', max_iter=500, tol=10e-5)\n",
        "svmLinear_standard.fit(X,Y)\n",
        "score_svm_standard = svmLinear_standard.score(X,Y)\n",
        "print(f\"Accuracy of SVM linear classfier on standardized dataset {score_svm_standard}\")"
      ],
      "execution_count": 106,
      "outputs": [
        {
          "output_type": "stream",
          "text": [
            "Accuracy of SVM linear classfier on standardized dataset 0.925\n"
          ],
          "name": "stdout"
        }
      ]
    },
    {
      "cell_type": "code",
      "metadata": {
        "colab": {
          "base_uri": "https://localhost:8080/"
        },
        "id": "1Zbju6R7NsBy",
        "outputId": "66e27f4b-dde6-4433-871f-43f015eb03bf"
      },
      "source": [
        "svcImportance_standard = svmLinear_standard.coef_[0]\n",
        "print(\"feature importance for SVM linear with standardized feature\")\n",
        "for id, coeff_ in enumerate(svcImportance_standard):\n",
        "  print(f\"f{id+1} coefficient {abs(svcImportance_standard[id])} \")"
      ],
      "execution_count": 107,
      "outputs": [
        {
          "output_type": "stream",
          "text": [
            "feature importance for SVM linear with standardized feature\n",
            "f1 coefficient 0.21573161710936944 \n",
            "f2 coefficient 0.07520069627231658 \n",
            "f3 coefficient 2.9336989100789643 \n"
          ],
          "name": "stdout"
        }
      ]
    },
    {
      "cell_type": "markdown",
      "metadata": {
        "id": "BXargGOJN91K"
      },
      "source": [
        "### <pre> <font color='red'>Observation from Experiment 2</font></pre>\n",
        "> <b>Experiment 2 Result </b>:\n",
        "\n",
        "    1. Logistic regression fits quiet well and accuracy is also good with standardized feature\n",
        "    2. SVM linear  converge with in  500 max iteration with hinge loss <br/>\n",
        "    3. After Standardization SVM Linear converged super fast and accuracy is also increased to 0.92\n",
        "    "
      ]
    },
    {
      "cell_type": "markdown",
      "metadata": {
        "id": "ojHiSbQjOneM"
      },
      "source": [
        "# <pre> <font color='blue'>Observation from Both Experiment </font></pre>"
      ]
    },
    {
      "cell_type": "markdown",
      "metadata": {
        "id": "Lo6qH9WTO1MF"
      },
      "source": [
        "    1. Logistic regression fits quiet well and accuracy is also good with standardized feature <br/> \n",
        "    or without standardization, feature importance is also intact for logistic regression\n",
        "    2. SVM linear seems highly sensitive to variance of features in dataset so standardization \n",
        "    helps to overcome high variance nature of dataset, and helps to improve the classfier\n",
        "    3. For SVM feature importance changed after standardization from (f3 > f2 > f1) to (f3 > f1 > f2)\n"
      ]
    }
  ]
}